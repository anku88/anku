{
  "nbformat": 4,
  "nbformat_minor": 0,
  "metadata": {
    "colab": {
      "name": "Questions_Lab_on_NNDL.ipynb",
      "provenance": [],
      "collapsed_sections": []
    },
    "kernelspec": {
      "display_name": "Python 3",
      "language": "python",
      "name": "python3"
    },
    "language_info": {
      "codemirror_mode": {
        "name": "ipython",
        "version": 3
      },
      "file_extension": ".py",
      "mimetype": "text/x-python",
      "name": "python",
      "nbconvert_exporter": "python",
      "pygments_lexer": "ipython3",
      "version": "3.7.2"
    }
  },
  "cells": [
    {
      "cell_type": "markdown",
      "metadata": {
        "id": "YeoiMbH7djEv"
      },
      "source": [
        "# Stock prices dataset\n",
        "The data is of tock exchange's stock listings for each trading day of 2010 to 2016.\n",
        "\n",
        "## Description\n",
        "A brief description of columns.\n",
        "- open: The opening market price of the equity symbol on the date\n",
        "- high: The highest market price of the equity symbol on the date\n",
        "- low: The lowest recorded market price of the equity symbol on the date\n",
        "- close: The closing recorded price of the equity symbol on the date\n",
        "- symbol: Symbol of the listed company\n",
        "- volume: Total traded volume of the equity symbol on the date\n",
        "- date: Date of record"
      ]
    },
    {
      "cell_type": "code",
      "metadata": {
        "id": "k2CGB61uPhC5"
      },
      "source": [
        "#from google.colab import drive\n",
        "#drive.mount('/content/drive')"
      ],
      "execution_count": 1,
      "outputs": []
    },
    {
      "cell_type": "markdown",
      "metadata": {
        "id": "RSoYY2nII_UW"
      },
      "source": [
        "In this assignment, we will work on the stock prices dataset named \"prices.csv\". Task is to create a Neural Network to classify closing price for a stock based on some parameters."
      ]
    },
    {
      "cell_type": "code",
      "metadata": {
        "id": "PGqq9f8VdLba"
      },
      "source": [
        "# Initialize the random number generator\n",
        "##import random\n",
        "#random.seed(0)\n",
        "\n",
        "# Ignore the warnings\n",
        "#import warnings\n",
        "#warnings.filterwarnings(\"ignore\")"
      ],
      "execution_count": 2,
      "outputs": []
    },
    {
      "cell_type": "markdown",
      "metadata": {
        "id": "_88voqAH-O6J"
      },
      "source": [
        "## Question 1"
      ]
    },
    {
      "cell_type": "markdown",
      "metadata": {
        "id": "dRHCeJqP-evf"
      },
      "source": [
        "### Load the data\n",
        "- load the csv file and read it using pandas\n",
        "- file name is prices.csv"
      ]
    },
    {
      "cell_type": "code",
      "metadata": {
        "id": "FW3D2ntBSSwj"
      },
      "source": [
        "#importing the packages\n",
        "import pandas as pd\n",
        "import os"
      ],
      "execution_count": 3,
      "outputs": []
    },
    {
      "cell_type": "code",
      "metadata": {
        "id": "Gr4YcffYd1FQ"
      },
      "source": [
        "# run this cell to to mount the google drive if you are using google colab\n",
        "\n",
        "from google.colab import drive\n",
        "#drive.mount('/content/drive/My Drive/')"
      ],
      "execution_count": 4,
      "outputs": []
    },
    {
      "cell_type": "code",
      "metadata": {
        "colab": {
          "base_uri": "https://localhost:8080/",
          "height": 37
        },
        "id": "NeKZgCHJSfCy",
        "outputId": "d4e30a3e-37fc-4e76-fd70-112ba7e7d2fc"
      },
      "source": [
        "#checking the path\n",
        "os.getcwd()"
      ],
      "execution_count": 5,
      "outputs": [
        {
          "output_type": "execute_result",
          "data": {
            "application/vnd.google.colaboratory.intrinsic+json": {
              "type": "string"
            },
            "text/plain": [
              "'/content'"
            ]
          },
          "metadata": {
            "tags": []
          },
          "execution_count": 5
        }
      ]
    },
    {
      "cell_type": "code",
      "metadata": {
        "id": "BY2XJrGxSyA8"
      },
      "source": [
        ""
      ],
      "execution_count": 5,
      "outputs": []
    },
    {
      "cell_type": "code",
      "metadata": {
        "id": "cWRnUK6dSmK0"
      },
      "source": [
        "#setting the path\n",
        "os.chdir('/content/drive/MyDrive/LAB ML')"
      ],
      "execution_count": 6,
      "outputs": []
    },
    {
      "cell_type": "code",
      "metadata": {
        "colab": {
          "base_uri": "https://localhost:8080/",
          "height": 37
        },
        "id": "-tl_-ZzbSz5G",
        "outputId": "d5f32317-2348-479d-9f3a-65a1f29a663d"
      },
      "source": [
        "os.getcwd()"
      ],
      "execution_count": 7,
      "outputs": [
        {
          "output_type": "execute_result",
          "data": {
            "application/vnd.google.colaboratory.intrinsic+json": {
              "type": "string"
            },
            "text/plain": [
              "'/content/drive/MyDrive/LAB ML'"
            ]
          },
          "metadata": {
            "tags": []
          },
          "execution_count": 7
        }
      ]
    },
    {
      "cell_type": "code",
      "metadata": {
        "id": "TnkGc91WS6he"
      },
      "source": [
        "#reading the data\n",
        "df = pd.read_csv('download.csv')\n"
      ],
      "execution_count": 8,
      "outputs": []
    },
    {
      "cell_type": "code",
      "metadata": {
        "colab": {
          "base_uri": "https://localhost:8080/"
        },
        "id": "CbBbfJ9TV9dt",
        "outputId": "014086ba-9fed-4645-d820-7a15202034cb"
      },
      "source": [
        "#cheking the shape of data\n",
        "df.shape"
      ],
      "execution_count": 9,
      "outputs": [
        {
          "output_type": "execute_result",
          "data": {
            "text/plain": [
              "(851264, 7)"
            ]
          },
          "metadata": {
            "tags": []
          },
          "execution_count": 9
        }
      ]
    },
    {
      "cell_type": "code",
      "metadata": {
        "id": "cKVH5v7r-RmC"
      },
      "source": [
        "# run this cell to upload file using GUI if you are using google colab\n",
        "\n",
        "#From google.colab import files\n",
        "#files.upload()"
      ],
      "execution_count": 10,
      "outputs": []
    },
    {
      "cell_type": "code",
      "metadata": {
        "id": "xV__0IA3vwmJ",
        "colab": {
          "base_uri": "https://localhost:8080/",
          "height": 204
        },
        "outputId": "5a7a6b18-b96e-4dbe-f0f7-882f9b7186de"
      },
      "source": [
        "df.head()"
      ],
      "execution_count": 11,
      "outputs": [
        {
          "output_type": "execute_result",
          "data": {
            "text/html": [
              "<div>\n",
              "<style scoped>\n",
              "    .dataframe tbody tr th:only-of-type {\n",
              "        vertical-align: middle;\n",
              "    }\n",
              "\n",
              "    .dataframe tbody tr th {\n",
              "        vertical-align: top;\n",
              "    }\n",
              "\n",
              "    .dataframe thead th {\n",
              "        text-align: right;\n",
              "    }\n",
              "</style>\n",
              "<table border=\"1\" class=\"dataframe\">\n",
              "  <thead>\n",
              "    <tr style=\"text-align: right;\">\n",
              "      <th></th>\n",
              "      <th>date</th>\n",
              "      <th>symbol</th>\n",
              "      <th>open</th>\n",
              "      <th>close</th>\n",
              "      <th>low</th>\n",
              "      <th>high</th>\n",
              "      <th>volume</th>\n",
              "    </tr>\n",
              "  </thead>\n",
              "  <tbody>\n",
              "    <tr>\n",
              "      <th>0</th>\n",
              "      <td>2016-01-05 00:00:00</td>\n",
              "      <td>WLTW</td>\n",
              "      <td>123.430000</td>\n",
              "      <td>125.839996</td>\n",
              "      <td>122.309998</td>\n",
              "      <td>126.250000</td>\n",
              "      <td>2163600.0</td>\n",
              "    </tr>\n",
              "    <tr>\n",
              "      <th>1</th>\n",
              "      <td>2016-01-06 00:00:00</td>\n",
              "      <td>WLTW</td>\n",
              "      <td>125.239998</td>\n",
              "      <td>119.980003</td>\n",
              "      <td>119.940002</td>\n",
              "      <td>125.540001</td>\n",
              "      <td>2386400.0</td>\n",
              "    </tr>\n",
              "    <tr>\n",
              "      <th>2</th>\n",
              "      <td>2016-01-07 00:00:00</td>\n",
              "      <td>WLTW</td>\n",
              "      <td>116.379997</td>\n",
              "      <td>114.949997</td>\n",
              "      <td>114.930000</td>\n",
              "      <td>119.739998</td>\n",
              "      <td>2489500.0</td>\n",
              "    </tr>\n",
              "    <tr>\n",
              "      <th>3</th>\n",
              "      <td>2016-01-08 00:00:00</td>\n",
              "      <td>WLTW</td>\n",
              "      <td>115.480003</td>\n",
              "      <td>116.620003</td>\n",
              "      <td>113.500000</td>\n",
              "      <td>117.440002</td>\n",
              "      <td>2006300.0</td>\n",
              "    </tr>\n",
              "    <tr>\n",
              "      <th>4</th>\n",
              "      <td>2016-01-11 00:00:00</td>\n",
              "      <td>WLTW</td>\n",
              "      <td>117.010002</td>\n",
              "      <td>114.970001</td>\n",
              "      <td>114.089996</td>\n",
              "      <td>117.330002</td>\n",
              "      <td>1408600.0</td>\n",
              "    </tr>\n",
              "  </tbody>\n",
              "</table>\n",
              "</div>"
            ],
            "text/plain": [
              "                  date symbol        open  ...         low        high     volume\n",
              "0  2016-01-05 00:00:00   WLTW  123.430000  ...  122.309998  126.250000  2163600.0\n",
              "1  2016-01-06 00:00:00   WLTW  125.239998  ...  119.940002  125.540001  2386400.0\n",
              "2  2016-01-07 00:00:00   WLTW  116.379997  ...  114.930000  119.739998  2489500.0\n",
              "3  2016-01-08 00:00:00   WLTW  115.480003  ...  113.500000  117.440002  2006300.0\n",
              "4  2016-01-11 00:00:00   WLTW  117.010002  ...  114.089996  117.330002  1408600.0\n",
              "\n",
              "[5 rows x 7 columns]"
            ]
          },
          "metadata": {
            "tags": []
          },
          "execution_count": 11
        }
      ]
    },
    {
      "cell_type": "markdown",
      "metadata": {
        "id": "HlLKVPVH_BCT"
      },
      "source": [
        "## Question 2"
      ]
    },
    {
      "cell_type": "markdown",
      "metadata": {
        "id": "ZxoGynuBeO4t"
      },
      "source": [
        "\n",
        "\n",
        "### Drop null\n",
        "- Drop null values if any"
      ]
    },
    {
      "cell_type": "code",
      "metadata": {
        "id": "_yuwJJIeeUaD",
        "colab": {
          "base_uri": "https://localhost:8080/"
        },
        "outputId": "9076a3ea-e8b3-4677-d50d-1ffa82e3ea3b"
      },
      "source": [
        "#cheking the null values\n",
        "df.isnull().sum()"
      ],
      "execution_count": 12,
      "outputs": [
        {
          "output_type": "execute_result",
          "data": {
            "text/plain": [
              "date      0\n",
              "symbol    0\n",
              "open      0\n",
              "close     0\n",
              "low       0\n",
              "high      0\n",
              "volume    0\n",
              "dtype: int64"
            ]
          },
          "metadata": {
            "tags": []
          },
          "execution_count": 12
        }
      ]
    },
    {
      "cell_type": "code",
      "metadata": {
        "id": "3MkrHYxzUqWv"
      },
      "source": [
        "#there are no null values to drop"
      ],
      "execution_count": 13,
      "outputs": []
    },
    {
      "cell_type": "markdown",
      "metadata": {
        "id": "9J4BlzVA_gZd"
      },
      "source": [
        "### Drop columns\n",
        "- Now, we don't need \"date\", \"volume\" and \"symbol\" column\n",
        "- drop \"date\", \"volume\" and \"symbol\" column from the data\n"
      ]
    },
    {
      "cell_type": "code",
      "metadata": {
        "id": "IKEK8aEE_Csx"
      },
      "source": [
        "#droping the columns\n",
        "df.drop(['date','volume','symbol'] , axis=1, inplace = True)"
      ],
      "execution_count": 14,
      "outputs": []
    },
    {
      "cell_type": "markdown",
      "metadata": {
        "id": "cTPhO6v-AiZt"
      },
      "source": [
        "## Question 3"
      ]
    },
    {
      "cell_type": "markdown",
      "metadata": {
        "id": "SsZXmF3NAkna"
      },
      "source": [
        "### Print the dataframe\n",
        "- print the modified dataframe"
      ]
    },
    {
      "cell_type": "code",
      "metadata": {
        "id": "aKs04iIHAjxN",
        "colab": {
          "base_uri": "https://localhost:8080/",
          "height": 204
        },
        "outputId": "3a2039fa-0eac-4a07-9790-7c4cc17c1d00"
      },
      "source": [
        "#print the modified dataframe\n",
        "df.head()"
      ],
      "execution_count": 15,
      "outputs": [
        {
          "output_type": "execute_result",
          "data": {
            "text/html": [
              "<div>\n",
              "<style scoped>\n",
              "    .dataframe tbody tr th:only-of-type {\n",
              "        vertical-align: middle;\n",
              "    }\n",
              "\n",
              "    .dataframe tbody tr th {\n",
              "        vertical-align: top;\n",
              "    }\n",
              "\n",
              "    .dataframe thead th {\n",
              "        text-align: right;\n",
              "    }\n",
              "</style>\n",
              "<table border=\"1\" class=\"dataframe\">\n",
              "  <thead>\n",
              "    <tr style=\"text-align: right;\">\n",
              "      <th></th>\n",
              "      <th>open</th>\n",
              "      <th>close</th>\n",
              "      <th>low</th>\n",
              "      <th>high</th>\n",
              "    </tr>\n",
              "  </thead>\n",
              "  <tbody>\n",
              "    <tr>\n",
              "      <th>0</th>\n",
              "      <td>123.430000</td>\n",
              "      <td>125.839996</td>\n",
              "      <td>122.309998</td>\n",
              "      <td>126.250000</td>\n",
              "    </tr>\n",
              "    <tr>\n",
              "      <th>1</th>\n",
              "      <td>125.239998</td>\n",
              "      <td>119.980003</td>\n",
              "      <td>119.940002</td>\n",
              "      <td>125.540001</td>\n",
              "    </tr>\n",
              "    <tr>\n",
              "      <th>2</th>\n",
              "      <td>116.379997</td>\n",
              "      <td>114.949997</td>\n",
              "      <td>114.930000</td>\n",
              "      <td>119.739998</td>\n",
              "    </tr>\n",
              "    <tr>\n",
              "      <th>3</th>\n",
              "      <td>115.480003</td>\n",
              "      <td>116.620003</td>\n",
              "      <td>113.500000</td>\n",
              "      <td>117.440002</td>\n",
              "    </tr>\n",
              "    <tr>\n",
              "      <th>4</th>\n",
              "      <td>117.010002</td>\n",
              "      <td>114.970001</td>\n",
              "      <td>114.089996</td>\n",
              "      <td>117.330002</td>\n",
              "    </tr>\n",
              "  </tbody>\n",
              "</table>\n",
              "</div>"
            ],
            "text/plain": [
              "         open       close         low        high\n",
              "0  123.430000  125.839996  122.309998  126.250000\n",
              "1  125.239998  119.980003  119.940002  125.540001\n",
              "2  116.379997  114.949997  114.930000  119.739998\n",
              "3  115.480003  116.620003  113.500000  117.440002\n",
              "4  117.010002  114.970001  114.089996  117.330002"
            ]
          },
          "metadata": {
            "tags": []
          },
          "execution_count": 15
        }
      ]
    },
    {
      "cell_type": "markdown",
      "metadata": {
        "id": "C8u_jlbABTip"
      },
      "source": [
        "### Get features and label from the dataset in separate variable\n",
        "- Let's separate labels and features now. We are going to predict the value for \"close\" column so that will be our label. Our features will be \"open\", \"low\", \"high\"\n",
        "- Take \"open\" \"low\", \"high\" columns as features\n",
        "- Take \"close\" column as label"
      ]
    },
    {
      "cell_type": "code",
      "metadata": {
        "id": "xQjCMzUXBJbg",
        "colab": {
          "base_uri": "https://localhost:8080/"
        },
        "outputId": "3ccb33ef-76b7-4ebe-b7a2-87325e07ceff"
      },
      "source": [
        "df.shape"
      ],
      "execution_count": 16,
      "outputs": [
        {
          "output_type": "execute_result",
          "data": {
            "text/plain": [
              "(851264, 4)"
            ]
          },
          "metadata": {
            "tags": []
          },
          "execution_count": 16
        }
      ]
    },
    {
      "cell_type": "code",
      "metadata": {
        "id": "OPQxbbY5X9ho"
      },
      "source": [
        "#saperating the labels and features\n",
        "X = df.drop(axis=1,columns='close')\n",
        "y = df.pop('close')"
      ],
      "execution_count": 17,
      "outputs": []
    },
    {
      "cell_type": "code",
      "metadata": {
        "colab": {
          "base_uri": "https://localhost:8080/",
          "height": 204
        },
        "id": "XylnERS9YSjf",
        "outputId": "66c7da9e-2db5-40ab-df32-8bf0033f1c50"
      },
      "source": [
        "#print the modified dataframe\n",
        "X.head()"
      ],
      "execution_count": 18,
      "outputs": [
        {
          "output_type": "execute_result",
          "data": {
            "text/html": [
              "<div>\n",
              "<style scoped>\n",
              "    .dataframe tbody tr th:only-of-type {\n",
              "        vertical-align: middle;\n",
              "    }\n",
              "\n",
              "    .dataframe tbody tr th {\n",
              "        vertical-align: top;\n",
              "    }\n",
              "\n",
              "    .dataframe thead th {\n",
              "        text-align: right;\n",
              "    }\n",
              "</style>\n",
              "<table border=\"1\" class=\"dataframe\">\n",
              "  <thead>\n",
              "    <tr style=\"text-align: right;\">\n",
              "      <th></th>\n",
              "      <th>open</th>\n",
              "      <th>low</th>\n",
              "      <th>high</th>\n",
              "    </tr>\n",
              "  </thead>\n",
              "  <tbody>\n",
              "    <tr>\n",
              "      <th>0</th>\n",
              "      <td>123.430000</td>\n",
              "      <td>122.309998</td>\n",
              "      <td>126.250000</td>\n",
              "    </tr>\n",
              "    <tr>\n",
              "      <th>1</th>\n",
              "      <td>125.239998</td>\n",
              "      <td>119.940002</td>\n",
              "      <td>125.540001</td>\n",
              "    </tr>\n",
              "    <tr>\n",
              "      <th>2</th>\n",
              "      <td>116.379997</td>\n",
              "      <td>114.930000</td>\n",
              "      <td>119.739998</td>\n",
              "    </tr>\n",
              "    <tr>\n",
              "      <th>3</th>\n",
              "      <td>115.480003</td>\n",
              "      <td>113.500000</td>\n",
              "      <td>117.440002</td>\n",
              "    </tr>\n",
              "    <tr>\n",
              "      <th>4</th>\n",
              "      <td>117.010002</td>\n",
              "      <td>114.089996</td>\n",
              "      <td>117.330002</td>\n",
              "    </tr>\n",
              "  </tbody>\n",
              "</table>\n",
              "</div>"
            ],
            "text/plain": [
              "         open         low        high\n",
              "0  123.430000  122.309998  126.250000\n",
              "1  125.239998  119.940002  125.540001\n",
              "2  116.379997  114.930000  119.739998\n",
              "3  115.480003  113.500000  117.440002\n",
              "4  117.010002  114.089996  117.330002"
            ]
          },
          "metadata": {
            "tags": []
          },
          "execution_count": 18
        }
      ]
    },
    {
      "cell_type": "code",
      "metadata": {
        "colab": {
          "base_uri": "https://localhost:8080/"
        },
        "id": "NQWUxrs6YaC4",
        "outputId": "a60672a4-2774-4b43-a3d2-fe996e5a459b"
      },
      "source": [
        "#print the modified dataframe\n",
        "y.head()"
      ],
      "execution_count": 19,
      "outputs": [
        {
          "output_type": "execute_result",
          "data": {
            "text/plain": [
              "0    125.839996\n",
              "1    119.980003\n",
              "2    114.949997\n",
              "3    116.620003\n",
              "4    114.970001\n",
              "Name: close, dtype: float64"
            ]
          },
          "metadata": {
            "tags": []
          },
          "execution_count": 19
        }
      ]
    },
    {
      "cell_type": "markdown",
      "metadata": {
        "id": "6vGtnapgBIJm"
      },
      "source": [
        "## Question 4"
      ]
    },
    {
      "cell_type": "markdown",
      "metadata": {
        "id": "8pZAKdJ5gcrm"
      },
      "source": [
        "### Create train and test sets\n",
        "- Split the data into training and testing"
      ]
    },
    {
      "cell_type": "code",
      "metadata": {
        "id": "KalRqA6Rgqsn"
      },
      "source": [
        "#splitting the data into test and train set\n",
        "from sklearn.model_selection import train_test_split\n",
        "X_train, X_test, Y_train, Y_test = train_test_split(X, y, test_size=.30, random_state=50)"
      ],
      "execution_count": 20,
      "outputs": []
    },
    {
      "cell_type": "markdown",
      "metadata": {
        "id": "aTAKzlxZBz0z"
      },
      "source": [
        "## Question 5"
      ]
    },
    {
      "cell_type": "markdown",
      "metadata": {
        "id": "O7BU2qxEg0Ki"
      },
      "source": [
        "### Scaling\n",
        "- Scale the data (features only)\n",
        "- Use StandarScaler"
      ]
    },
    {
      "cell_type": "code",
      "metadata": {
        "id": "AcO8SlhPhBkR"
      },
      "source": [
        "#importing the packages\n",
        "from sklearn.preprocessing import StandardScaler\n",
        "#scaling the data by using the StandarScaler\n",
        "scaler = StandardScaler()\n",
        "X_train_sc = scaler.fit_transform(X_train)\n",
        "X_test_sc = scaler.transform(X_test)"
      ],
      "execution_count": 21,
      "outputs": []
    },
    {
      "cell_type": "markdown",
      "metadata": {
        "id": "3TWpN0nVTpUx"
      },
      "source": [
        "## Question 6"
      ]
    },
    {
      "cell_type": "markdown",
      "metadata": {
        "id": "_sj0LYNkhR-L"
      },
      "source": [
        "### Convert data to NumPy array\n",
        "- Convert features and labels to numpy array"
      ]
    },
    {
      "cell_type": "code",
      "metadata": {
        "id": "X6mIfuTxhbTT",
        "colab": {
          "base_uri": "https://localhost:8080/"
        },
        "outputId": "12907bc1-44e3-4de6-c976-3baf4cad8eab"
      },
      "source": [
        "#cheking the type X_train_sc \n",
        "type(X_train_sc )\n",
        "#X_train_sc  is already in numpy array"
      ],
      "execution_count": 22,
      "outputs": [
        {
          "output_type": "execute_result",
          "data": {
            "text/plain": [
              "numpy.ndarray"
            ]
          },
          "metadata": {
            "tags": []
          },
          "execution_count": 22
        }
      ]
    },
    {
      "cell_type": "code",
      "metadata": {
        "colab": {
          "base_uri": "https://localhost:8080/"
        },
        "id": "tXKjBhxcaqga",
        "outputId": "670ebcaf-a3ca-4afa-e006-93dafa1f2274"
      },
      "source": [
        "#cheking the type Y_train\n",
        "type(Y_train)"
      ],
      "execution_count": 23,
      "outputs": [
        {
          "output_type": "execute_result",
          "data": {
            "text/plain": [
              "pandas.core.series.Series"
            ]
          },
          "metadata": {
            "tags": []
          },
          "execution_count": 23
        }
      ]
    },
    {
      "cell_type": "code",
      "metadata": {
        "id": "0Zh5EhW5axp-"
      },
      "source": [
        "#importing the package\n",
        "import numpy as np"
      ],
      "execution_count": 24,
      "outputs": []
    },
    {
      "cell_type": "code",
      "metadata": {
        "id": "2XFck3iwa2uq"
      },
      "source": [
        "#Convert data to NumPy array\n",
        "Y_train = np.array(Y_train)\n",
        "Y_test = np.array(Y_test)"
      ],
      "execution_count": 25,
      "outputs": []
    },
    {
      "cell_type": "code",
      "metadata": {
        "colab": {
          "base_uri": "https://localhost:8080/"
        },
        "id": "0blZjQ8TbQ5_",
        "outputId": "24a1bd06-ca35-4c94-941f-a727d449fca9"
      },
      "source": [
        "#cheking the chnages\n",
        "type(Y_train)"
      ],
      "execution_count": 26,
      "outputs": [
        {
          "output_type": "execute_result",
          "data": {
            "text/plain": [
              "numpy.ndarray"
            ]
          },
          "metadata": {
            "tags": []
          },
          "execution_count": 26
        }
      ]
    },
    {
      "cell_type": "markdown",
      "metadata": {
        "id": "wmXUGc2oTspa"
      },
      "source": [
        "## Question 7"
      ]
    },
    {
      "cell_type": "markdown",
      "metadata": {
        "id": "cl2M9whFh6mh"
      },
      "source": [
        "### Define Model\n",
        "- Initialize a Sequential model\n",
        "- Add a Flatten layer\n",
        "- Add a Dense layer with one neuron as output\n",
        "  - add 'linear' as activation function\n"
      ]
    },
    {
      "cell_type": "code",
      "metadata": {
        "id": "TkiBpORmiegL"
      },
      "source": [
        "#importing the packages\n",
        "from tensorflow.keras.models import Sequential\n",
        "from tensorflow.keras.layers import Flatten, Dense"
      ],
      "execution_count": 27,
      "outputs": []
    },
    {
      "cell_type": "code",
      "metadata": {
        "id": "6dJVQtlGdVlq"
      },
      "source": [
        "#nitialize a Sequential model\n",
        "model = Sequential([Flatten(),Dense(1, activation='linear')])"
      ],
      "execution_count": 28,
      "outputs": []
    },
    {
      "cell_type": "markdown",
      "metadata": {
        "id": "8a0wr94aTyjg"
      },
      "source": [
        "## Question 8"
      ]
    },
    {
      "cell_type": "markdown",
      "metadata": {
        "id": "BNZPb5lKioX0"
      },
      "source": [
        "### Compile the model\n",
        "- Compile the model\n",
        "- Use \"sgd\" optimizer\n",
        "- for calculating loss, use mean squared error"
      ]
    },
    {
      "cell_type": "code",
      "metadata": {
        "id": "ZEQUP3VaiuT2"
      },
      "source": [
        "#Compiling the model\n",
        "model.compile(optimizer='sgd', loss='mse')"
      ],
      "execution_count": 29,
      "outputs": []
    },
    {
      "cell_type": "markdown",
      "metadata": {
        "id": "ZbBpnOtfT0wd"
      },
      "source": [
        "## Question 9"
      ]
    },
    {
      "cell_type": "markdown",
      "metadata": {
        "id": "n9o45OHdjDhA"
      },
      "source": [
        "### Fit the model\n",
        "- epochs: 50\n",
        "- batch size: 128\n",
        "- specify validation data"
      ]
    },
    {
      "cell_type": "code",
      "metadata": {
        "id": "-Y6tA30XjOH2",
        "colab": {
          "base_uri": "https://localhost:8080/"
        },
        "outputId": "6c038a36-2077-4a46-fb82-de6ccbd4b0ee"
      },
      "source": [
        "#fitting the model\n",
        "model.fit(X_train_sc,Y_train,                   \n",
        "          epochs=50,\n",
        "          batch_size=128,\n",
        "          validation_data=(X_test_sc ,Y_test))"
      ],
      "execution_count": 30,
      "outputs": [
        {
          "output_type": "stream",
          "text": [
            "Epoch 1/50\n",
            "4656/4656 [==============================] - 6s 1ms/step - loss: 248.2123 - val_loss: 0.9758\n",
            "Epoch 2/50\n",
            "4656/4656 [==============================] - 6s 1ms/step - loss: 0.9746 - val_loss: 0.9870\n",
            "Epoch 3/50\n",
            "4656/4656 [==============================] - 5s 1ms/step - loss: 0.9652 - val_loss: 0.9622\n",
            "Epoch 4/50\n",
            "4656/4656 [==============================] - 5s 1ms/step - loss: 0.9318 - val_loss: 0.9554\n",
            "Epoch 5/50\n",
            "4656/4656 [==============================] - 6s 1ms/step - loss: 0.9343 - val_loss: 0.9491\n",
            "Epoch 6/50\n",
            "4656/4656 [==============================] - 5s 1ms/step - loss: 0.9218 - val_loss: 0.9425\n",
            "Epoch 7/50\n",
            "4656/4656 [==============================] - 5s 1ms/step - loss: 0.9138 - val_loss: 0.9372\n",
            "Epoch 8/50\n",
            "4656/4656 [==============================] - 5s 1ms/step - loss: 0.9434 - val_loss: 0.9451\n",
            "Epoch 9/50\n",
            "4656/4656 [==============================] - 5s 1ms/step - loss: 0.9013 - val_loss: 0.9582\n",
            "Epoch 10/50\n",
            "4656/4656 [==============================] - 5s 1ms/step - loss: 0.8987 - val_loss: 0.9214\n",
            "Epoch 11/50\n",
            "4656/4656 [==============================] - 6s 1ms/step - loss: 0.9145 - val_loss: 0.9192\n",
            "Epoch 12/50\n",
            "4656/4656 [==============================] - 5s 1ms/step - loss: 0.9026 - val_loss: 0.9147\n",
            "Epoch 13/50\n",
            "4656/4656 [==============================] - 6s 1ms/step - loss: 0.8820 - val_loss: 0.9028\n",
            "Epoch 14/50\n",
            "4656/4656 [==============================] - 5s 1ms/step - loss: 0.9150 - val_loss: 0.8934\n",
            "Epoch 15/50\n",
            "4656/4656 [==============================] - 5s 1ms/step - loss: 0.8862 - val_loss: 0.8907\n",
            "Epoch 16/50\n",
            "4656/4656 [==============================] - 5s 1ms/step - loss: 0.8584 - val_loss: 0.8865\n",
            "Epoch 17/50\n",
            "4656/4656 [==============================] - 5s 1ms/step - loss: 0.8857 - val_loss: 0.8875\n",
            "Epoch 18/50\n",
            "4656/4656 [==============================] - 5s 1ms/step - loss: 0.8730 - val_loss: 0.8728\n",
            "Epoch 19/50\n",
            "4656/4656 [==============================] - 5s 1ms/step - loss: 0.8467 - val_loss: 0.8693\n",
            "Epoch 20/50\n",
            "4656/4656 [==============================] - 5s 1ms/step - loss: 0.8632 - val_loss: 0.8892\n",
            "Epoch 21/50\n",
            "4656/4656 [==============================] - 5s 1ms/step - loss: 0.8160 - val_loss: 0.8844\n",
            "Epoch 22/50\n",
            "4656/4656 [==============================] - 5s 1ms/step - loss: 0.8482 - val_loss: 0.8492\n",
            "Epoch 23/50\n",
            "4656/4656 [==============================] - 6s 1ms/step - loss: 0.8299 - val_loss: 0.8442\n",
            "Epoch 24/50\n",
            "4656/4656 [==============================] - 5s 1ms/step - loss: 0.8296 - val_loss: 0.8391\n",
            "Epoch 25/50\n",
            "4656/4656 [==============================] - 5s 1ms/step - loss: 0.8248 - val_loss: 0.8365\n",
            "Epoch 26/50\n",
            "4656/4656 [==============================] - 5s 1ms/step - loss: 0.8127 - val_loss: 0.8300\n",
            "Epoch 27/50\n",
            "4656/4656 [==============================] - 5s 1ms/step - loss: 0.8063 - val_loss: 0.8280\n",
            "Epoch 28/50\n",
            "4656/4656 [==============================] - 6s 1ms/step - loss: 0.8079 - val_loss: 0.8194\n",
            "Epoch 29/50\n",
            "4656/4656 [==============================] - 6s 1ms/step - loss: 0.8105 - val_loss: 0.8152\n",
            "Epoch 30/50\n",
            "4656/4656 [==============================] - 5s 1ms/step - loss: 0.7983 - val_loss: 0.8098\n",
            "Epoch 31/50\n",
            "4656/4656 [==============================] - 5s 1ms/step - loss: 0.7791 - val_loss: 0.8046\n",
            "Epoch 32/50\n",
            "4656/4656 [==============================] - 5s 1ms/step - loss: 0.8086 - val_loss: 0.8212\n",
            "Epoch 33/50\n",
            "4656/4656 [==============================] - 5s 1ms/step - loss: 0.8022 - val_loss: 0.7986\n",
            "Epoch 34/50\n",
            "4656/4656 [==============================] - 6s 1ms/step - loss: 0.8017 - val_loss: 0.7907\n",
            "Epoch 35/50\n",
            "4656/4656 [==============================] - 5s 1ms/step - loss: 0.7780 - val_loss: 0.7869\n",
            "Epoch 36/50\n",
            "4656/4656 [==============================] - 5s 1ms/step - loss: 0.7768 - val_loss: 0.7961\n",
            "Epoch 37/50\n",
            "4656/4656 [==============================] - 5s 1ms/step - loss: 0.7943 - val_loss: 0.7796\n",
            "Epoch 38/50\n",
            "4656/4656 [==============================] - 5s 1ms/step - loss: 0.7562 - val_loss: 0.7753\n",
            "Epoch 39/50\n",
            "4656/4656 [==============================] - 5s 1ms/step - loss: 0.7539 - val_loss: 0.7718\n",
            "Epoch 40/50\n",
            "4656/4656 [==============================] - 5s 1ms/step - loss: 0.7573 - val_loss: 0.7673\n",
            "Epoch 41/50\n",
            "4656/4656 [==============================] - 5s 1ms/step - loss: 0.7719 - val_loss: 0.7661\n",
            "Epoch 42/50\n",
            "4656/4656 [==============================] - 5s 1ms/step - loss: 0.7633 - val_loss: 0.7561\n",
            "Epoch 43/50\n",
            "4656/4656 [==============================] - 5s 1ms/step - loss: 0.7521 - val_loss: 0.7523\n",
            "Epoch 44/50\n",
            "4656/4656 [==============================] - 5s 1ms/step - loss: 0.7676 - val_loss: 0.7516\n",
            "Epoch 45/50\n",
            "4656/4656 [==============================] - 6s 1ms/step - loss: 0.7504 - val_loss: 0.7506\n",
            "Epoch 46/50\n",
            "4656/4656 [==============================] - 6s 1ms/step - loss: 0.7195 - val_loss: 0.7462\n",
            "Epoch 47/50\n",
            "4656/4656 [==============================] - 6s 1ms/step - loss: 0.7302 - val_loss: 0.7375\n",
            "Epoch 48/50\n",
            "4656/4656 [==============================] - 5s 1ms/step - loss: 0.7374 - val_loss: 0.7349\n",
            "Epoch 49/50\n",
            "4656/4656 [==============================] - 5s 1ms/step - loss: 0.7184 - val_loss: 0.7344\n",
            "Epoch 50/50\n",
            "4656/4656 [==============================] - 5s 1ms/step - loss: 0.7203 - val_loss: 0.7544\n"
          ],
          "name": "stdout"
        },
        {
          "output_type": "execute_result",
          "data": {
            "text/plain": [
              "<tensorflow.python.keras.callbacks.History at 0x7f034076d630>"
            ]
          },
          "metadata": {
            "tags": []
          },
          "execution_count": 30
        }
      ]
    },
    {
      "cell_type": "markdown",
      "metadata": {
        "id": "AW4SEP8kT2ls"
      },
      "source": [
        "## Question 10"
      ]
    },
    {
      "cell_type": "markdown",
      "metadata": {
        "id": "EJDoix_7JU61"
      },
      "source": [
        "### Evaluate the model\n",
        "- Evaluate the model on test data"
      ]
    },
    {
      "cell_type": "code",
      "metadata": {
        "id": "HdH8pYBIjHGL",
        "colab": {
          "base_uri": "https://localhost:8080/"
        },
        "outputId": "5d800995-ca3f-4af1-bf5b-b2cedca7f4c6"
      },
      "source": [
        "#Evaluating the model\n",
        "model.evaluate(X_test_sc ,Y_test)\n"
      ],
      "execution_count": 31,
      "outputs": [
        {
          "output_type": "stream",
          "text": [
            "7981/7981 [==============================] - 6s 795us/step - loss: 0.7544\n"
          ],
          "name": "stdout"
        },
        {
          "output_type": "execute_result",
          "data": {
            "text/plain": [
              "0.7543776631355286"
            ]
          },
          "metadata": {
            "tags": []
          },
          "execution_count": 31
        }
      ]
    },
    {
      "cell_type": "markdown",
      "metadata": {
        "id": "hUpDD74Xjh01"
      },
      "source": [
        "### Manual predictions\n",
        "- Test the predictions on manual inputs\n",
        "- We have scaled out training data, so we need to transform our custom inputs using the object of the scaler\n",
        "- Example of manual input: [123.430000,\t122.30999, 116.250000]"
      ]
    },
    {
      "cell_type": "code",
      "metadata": {
        "id": "fvuH-c31lLiJ",
        "colab": {
          "base_uri": "https://localhost:8080/"
        },
        "outputId": "f0b32e36-6d73-41c7-824c-4906577c4988"
      },
      "source": [
        "\n",
        "model.predict(scaler.transform([[123.430000, 122.30999, 116.250000]]))"
      ],
      "execution_count": 32,
      "outputs": [
        {
          "output_type": "execute_result",
          "data": {
            "text/plain": [
              "array([[119.69267]], dtype=float32)"
            ]
          },
          "metadata": {
            "tags": []
          },
          "execution_count": 32
        }
      ]
    },
    {
      "cell_type": "code",
      "metadata": {
        "id": "-Yb1zKJwmPrA"
      },
      "source": [
        "#model.predict([[123.430000, 122.30999, 116.250000]])"
      ],
      "execution_count": 33,
      "outputs": []
    },
    {
      "cell_type": "markdown",
      "metadata": {
        "id": "4WH1Pr4KQlCh"
      },
      "source": [
        "# Build a DNN"
      ]
    },
    {
      "cell_type": "markdown",
      "metadata": {
        "id": "74cQBsi5QlCw"
      },
      "source": [
        "\n",
        "### Collect Fashion mnist data from tf.keras.datasets "
      ]
    },
    {
      "cell_type": "code",
      "metadata": {
        "id": "zGmtd-7pq1hI"
      },
      "source": [
        "#importing the ttensorflow\n",
        "import tensorflow as tf\n"
      ],
      "execution_count": 111,
      "outputs": []
    },
    {
      "cell_type": "code",
      "metadata": {
        "id": "wVWy0oDTr2Kj"
      },
      "source": [
        "#loading the data set from tensrflow keras\n",
        "(x_train,y_train),(x_test,y_test) = tf.keras.datasets.fashion_mnist.load_data()"
      ],
      "execution_count": 112,
      "outputs": []
    },
    {
      "cell_type": "markdown",
      "metadata": {
        "id": "gogmxW1U-cP4"
      },
      "source": [
        " cheking the shape"
      ]
    },
    {
      "cell_type": "code",
      "metadata": {
        "id": "UX6otc4wQlC2",
        "colab": {
          "base_uri": "https://localhost:8080/"
        },
        "outputId": "236cbee8-be83-49fb-ae9f-c58f89b0ccc8"
      },
      "source": [
        "x_train.shape"
      ],
      "execution_count": 113,
      "outputs": [
        {
          "output_type": "execute_result",
          "data": {
            "text/plain": [
              "(60000, 28, 28)"
            ]
          },
          "metadata": {
            "tags": []
          },
          "execution_count": 113
        }
      ]
    },
    {
      "cell_type": "code",
      "metadata": {
        "colab": {
          "base_uri": "https://localhost:8080/"
        },
        "id": "UtBdY3aMrOOK",
        "outputId": "4143eb7b-a05c-448c-f64c-f98f8c5efc1d"
      },
      "source": [
        "y_train.shape"
      ],
      "execution_count": 114,
      "outputs": [
        {
          "output_type": "execute_result",
          "data": {
            "text/plain": [
              "(60000,)"
            ]
          },
          "metadata": {
            "tags": []
          },
          "execution_count": 114
        }
      ]
    },
    {
      "cell_type": "code",
      "metadata": {
        "colab": {
          "base_uri": "https://localhost:8080/"
        },
        "id": "7HYvaiDvrSwJ",
        "outputId": "eb106d29-383b-46bc-e095-cebbdfeec032"
      },
      "source": [
        "x_test.shape"
      ],
      "execution_count": 115,
      "outputs": [
        {
          "output_type": "execute_result",
          "data": {
            "text/plain": [
              "(10000, 28, 28)"
            ]
          },
          "metadata": {
            "tags": []
          },
          "execution_count": 115
        }
      ]
    },
    {
      "cell_type": "code",
      "metadata": {
        "colab": {
          "base_uri": "https://localhost:8080/"
        },
        "id": "hjWNGWmWrYRA",
        "outputId": "a67aaf6b-2512-4592-894a-f42a75a9bcc7"
      },
      "source": [
        "y_test.shape"
      ],
      "execution_count": 116,
      "outputs": [
        {
          "output_type": "execute_result",
          "data": {
            "text/plain": [
              "(10000,)"
            ]
          },
          "metadata": {
            "tags": []
          },
          "execution_count": 116
        }
      ]
    },
    {
      "cell_type": "markdown",
      "metadata": {
        "id": "no7aWYZyQlC1"
      },
      "source": [
        "### Change train and test labels into one-hot vectors"
      ]
    },
    {
      "cell_type": "code",
      "metadata": {
        "id": "TQ7pJIIArhMZ"
      },
      "source": [
        "#applying one hot vectors\n",
        "trainy = tf.keras.utils.to_categorical(y_train, num_classes=10)\n",
        "testy = tf.keras.utils.to_categorical(y_test, num_classes=10)"
      ],
      "execution_count": 117,
      "outputs": []
    },
    {
      "cell_type": "code",
      "metadata": {
        "colab": {
          "base_uri": "https://localhost:8080/"
        },
        "id": "JRsPXvSQsdfx",
        "outputId": "f9787f70-a850-4fb9-d538-60e9adc2ab31"
      },
      "source": [
        "trainy.shape"
      ],
      "execution_count": 118,
      "outputs": [
        {
          "output_type": "execute_result",
          "data": {
            "text/plain": [
              "(60000, 10)"
            ]
          },
          "metadata": {
            "tags": []
          },
          "execution_count": 118
        }
      ]
    },
    {
      "cell_type": "markdown",
      "metadata": {
        "id": "QjNrRTdoQlC5"
      },
      "source": [
        "### Build the Graph"
      ]
    },
    {
      "cell_type": "markdown",
      "metadata": {
        "id": "CDJ9DHVNQlC7"
      },
      "source": [
        "### Initialize model, reshape & normalize data"
      ]
    },
    {
      "cell_type": "code",
      "metadata": {
        "id": "pCDQs_g1QlC8"
      },
      "source": [
        "#Clear any existing model in memory\n",
        "tf.keras.backend.clear_session()\n",
        "\n",
        "#Initialize Sequential model\n",
        "model = tf.keras.models.Sequential()\n",
        "\n",
        "#Reshape data from 2D to 1D -> 28x28 to 784\n",
        "model.add(tf.keras.layers.Reshape((784,),input_shape=(28,28,)))\n",
        "\n",
        "#Normalize the data\n",
        "model.add(tf.keras.layers.BatchNormalization())"
      ],
      "execution_count": 119,
      "outputs": []
    },
    {
      "cell_type": "markdown",
      "metadata": {
        "id": "kBGwTTilQlDD"
      },
      "source": [
        "### Add two fully connected layers with 200 and 100 neurons respectively with `relu` activations. Add a dropout layer with `p=0.25`"
      ]
    },
    {
      "cell_type": "code",
      "metadata": {
        "id": "IXbfpfOzQlDF"
      },
      "source": [
        "model.add(tf.keras.layers.Dense(200, activation='relu'))\n",
        "model.add(tf.keras.layers.Dense(100, activation='relu'))\n",
        "model.add(tf.keras.layers.Dropout(0.25))\n"
      ],
      "execution_count": 120,
      "outputs": []
    },
    {
      "cell_type": "markdown",
      "metadata": {
        "id": "5I8f5otcQlDJ"
      },
      "source": [
        "### Add the output layer with a fully connected layer with 10 neurons with `softmax` activation. Use `categorical_crossentropy` loss and `adam` optimizer and train the network. And, report the final validation.\n",
        "\n",
        "###Also add callback, such that if validation loss doesn't decreases consecutively 2 times, stop the training"
      ]
    },
    {
      "cell_type": "code",
      "metadata": {
        "id": "JZkvKymSd0Sr"
      },
      "source": [
        "model.add(tf.keras.layers.Dense(10, activation='softmax'))\n"
      ],
      "execution_count": 121,
      "outputs": []
    },
    {
      "cell_type": "code",
      "metadata": {
        "id": "JYi9vOLZwMIq"
      },
      "source": [
        "callback = tf.keras.callbacks.EarlyStopping(monitor='val_loss', patience=2)"
      ],
      "execution_count": 122,
      "outputs": []
    },
    {
      "cell_type": "code",
      "metadata": {
        "id": "CR0bzrpawm5b"
      },
      "source": [
        "model.compile(optimizer='adam', loss='categorical_crossentropy', metrics=['accuracy'])"
      ],
      "execution_count": 123,
      "outputs": []
    },
    {
      "cell_type": "markdown",
      "metadata": {
        "id": "foL4GTKfRnkF"
      },
      "source": [
        "### Print model summary"
      ]
    },
    {
      "cell_type": "code",
      "metadata": {
        "id": "BhoNWO83vwmK",
        "colab": {
          "base_uri": "https://localhost:8080/"
        },
        "outputId": "16fda116-e253-4c34-ab3e-4936f9dac3f3"
      },
      "source": [
        "model.summary()"
      ],
      "execution_count": 124,
      "outputs": [
        {
          "output_type": "stream",
          "text": [
            "Model: \"sequential\"\n",
            "_________________________________________________________________\n",
            "Layer (type)                 Output Shape              Param #   \n",
            "=================================================================\n",
            "reshape (Reshape)            (None, 784)               0         \n",
            "_________________________________________________________________\n",
            "batch_normalization (BatchNo (None, 784)               3136      \n",
            "_________________________________________________________________\n",
            "dense (Dense)                (None, 200)               157000    \n",
            "_________________________________________________________________\n",
            "dense_1 (Dense)              (None, 100)               20100     \n",
            "_________________________________________________________________\n",
            "dropout (Dropout)            (None, 100)               0         \n",
            "_________________________________________________________________\n",
            "dense_2 (Dense)              (None, 10)                1010      \n",
            "=================================================================\n",
            "Total params: 181,246\n",
            "Trainable params: 179,678\n",
            "Non-trainable params: 1,568\n",
            "_________________________________________________________________\n"
          ],
          "name": "stdout"
        }
      ]
    },
    {
      "cell_type": "markdown",
      "metadata": {
        "id": "Ld9xHnSbRv1T"
      },
      "source": [
        "###Train your model, use test data as validation set"
      ]
    },
    {
      "cell_type": "code",
      "metadata": {
        "id": "WSiMhJPpk3GO",
        "colab": {
          "base_uri": "https://localhost:8080/"
        },
        "outputId": "05edf540-aef9-4ce8-9300-c867bee4469e"
      },
      "source": [
        "model.fit(x_train,trainy,validation_data=(x_test, testy),epochs=10,batch_size=32,callbacks=callback)"
      ],
      "execution_count": 125,
      "outputs": [
        {
          "output_type": "stream",
          "text": [
            "Epoch 1/10\n",
            "1875/1875 [==============================] - 10s 5ms/step - loss: 0.6362 - accuracy: 0.7761 - val_loss: 0.4121 - val_accuracy: 0.8487\n",
            "Epoch 2/10\n",
            "1875/1875 [==============================] - 9s 5ms/step - loss: 0.3974 - accuracy: 0.8564 - val_loss: 0.3895 - val_accuracy: 0.8559\n",
            "Epoch 3/10\n",
            "1875/1875 [==============================] - 9s 5ms/step - loss: 0.3597 - accuracy: 0.8681 - val_loss: 0.4038 - val_accuracy: 0.8573\n",
            "Epoch 4/10\n",
            "1875/1875 [==============================] - 9s 5ms/step - loss: 0.3378 - accuracy: 0.8753 - val_loss: 0.3723 - val_accuracy: 0.8707\n",
            "Epoch 5/10\n",
            "1875/1875 [==============================] - 9s 5ms/step - loss: 0.3106 - accuracy: 0.8848 - val_loss: 0.3415 - val_accuracy: 0.8807\n",
            "Epoch 6/10\n",
            "1875/1875 [==============================] - 9s 5ms/step - loss: 0.2917 - accuracy: 0.8915 - val_loss: 0.3614 - val_accuracy: 0.8714\n",
            "Epoch 7/10\n",
            "1875/1875 [==============================] - 9s 5ms/step - loss: 0.2793 - accuracy: 0.8966 - val_loss: 0.3287 - val_accuracy: 0.8858\n",
            "Epoch 8/10\n",
            "1875/1875 [==============================] - 9s 5ms/step - loss: 0.2688 - accuracy: 0.8985 - val_loss: 0.3395 - val_accuracy: 0.8865\n",
            "Epoch 9/10\n",
            "1875/1875 [==============================] - 9s 5ms/step - loss: 0.2624 - accuracy: 0.9002 - val_loss: 0.3439 - val_accuracy: 0.8848\n"
          ],
          "name": "stdout"
        },
        {
          "output_type": "execute_result",
          "data": {
            "text/plain": [
              "<tensorflow.python.keras.callbacks.History at 0x7f03392c81d0>"
            ]
          },
          "metadata": {
            "tags": []
          },
          "execution_count": 125
        }
      ]
    },
    {
      "cell_type": "markdown",
      "metadata": {
        "id": "2K2w_Oq5RzZx"
      },
      "source": [
        "###Predict Labels"
      ]
    },
    {
      "cell_type": "code",
      "metadata": {
        "id": "UL76FU4lRz6n",
        "colab": {
          "base_uri": "https://localhost:8080/"
        },
        "outputId": "c7b75288-e81f-4b1a-82b1-f14c085dc608"
      },
      "source": [
        "#printing the highest predicted values for that using argmax()\n",
        "y_pred = np.argmax(model.predict(x_test),axis=1)\n",
        "y_pred "
      ],
      "execution_count": 126,
      "outputs": [
        {
          "output_type": "execute_result",
          "data": {
            "text/plain": [
              "array([9, 2, 1, ..., 8, 1, 5])"
            ]
          },
          "metadata": {
            "tags": []
          },
          "execution_count": 126
        }
      ]
    },
    {
      "cell_type": "markdown",
      "metadata": {
        "id": "BXPFIBBRR0mO"
      },
      "source": [
        "###Print Confusion matrix"
      ]
    },
    {
      "cell_type": "code",
      "metadata": {
        "id": "hlR4qXJ7R3yT"
      },
      "source": [
        "from sklearn.metrics import confusion_matrix"
      ],
      "execution_count": 127,
      "outputs": []
    },
    {
      "cell_type": "code",
      "metadata": {
        "colab": {
          "base_uri": "https://localhost:8080/"
        },
        "id": "IHvQgz4C49gz",
        "outputId": "6685c07d-3d30-4499-fa92-0b4a7b26b1b4"
      },
      "source": [
        "confusion_matrix(y_test, y_pred)"
      ],
      "execution_count": 128,
      "outputs": [
        {
          "output_type": "execute_result",
          "data": {
            "text/plain": [
              "array([[761,   2,  17,  23,   4,   1, 187,   0,   5,   0],\n",
              "       [  1, 979,   1,  13,   3,   0,   1,   0,   2,   0],\n",
              "       [ 13,   1, 764,   8, 129,   0,  83,   0,   2,   0],\n",
              "       [ 16,   4,   7, 888,  49,   1,  33,   0,   2,   0],\n",
              "       [  0,   0,  52,  22, 858,   0,  68,   0,   0,   0],\n",
              "       [  0,   0,   0,   0,   0, 962,   0,  26,   1,  11],\n",
              "       [ 66,   1,  67,  34,  61,   0, 766,   0,   5,   0],\n",
              "       [  0,   0,   0,   0,   0,  12,   0, 965,   1,  22],\n",
              "       [  5,   0,   4,   2,   7,   4,   9,   2, 967,   0],\n",
              "       [  0,   0,   0,   0,   0,  11,   2,  49,   0, 938]])"
            ]
          },
          "metadata": {
            "tags": []
          },
          "execution_count": 128
        }
      ]
    },
    {
      "cell_type": "markdown",
      "metadata": {
        "id": "-xMY7tsqR4Z6"
      },
      "source": [
        "###Plot training accuracy vs validation accuracy\n",
        "###Plot training loss vs validation loss"
      ]
    },
    {
      "cell_type": "code",
      "metadata": {
        "id": "q3irwsgFR-Uu",
        "colab": {
          "base_uri": "https://localhost:8080/"
        },
        "outputId": "5fc9d437-7aec-4c0e-b000-4af7d05e4baa"
      },
      "source": [
        "history = model.fit(x_train,trainy,validation_data=(x_test, testy),epochs=10,batch_size=32,callbacks=callback)"
      ],
      "execution_count": 129,
      "outputs": [
        {
          "output_type": "stream",
          "text": [
            "Epoch 1/10\n",
            "1875/1875 [==============================] - 10s 5ms/step - loss: 0.2562 - accuracy: 0.9030 - val_loss: 0.3375 - val_accuracy: 0.8876\n",
            "Epoch 2/10\n",
            "1875/1875 [==============================] - 9s 5ms/step - loss: 0.2454 - accuracy: 0.9077 - val_loss: 0.3481 - val_accuracy: 0.8881\n",
            "Epoch 3/10\n",
            "1875/1875 [==============================] - 9s 5ms/step - loss: 0.2378 - accuracy: 0.9103 - val_loss: 0.3657 - val_accuracy: 0.8836\n"
          ],
          "name": "stdout"
        }
      ]
    },
    {
      "cell_type": "code",
      "metadata": {
        "colab": {
          "base_uri": "https://localhost:8080/",
          "height": 573
        },
        "id": "0uY6vB1Y-yIX",
        "outputId": "7e01a69e-6ece-422d-80fd-1290a79784e7"
      },
      "source": [
        "import matplotlib.pyplot as plt\n",
        "\n",
        "plt.plot(history.history['accuracy'])\n",
        "plt.plot(history.history['val_accuracy'])\n",
        "plt.title('model accuracy')\n",
        "plt.ylabel('accuracy')\n",
        "plt.xlabel('epoch')\n",
        "plt.legend(['train', 'test'], loc='upper left')\n",
        "plt.show()\n",
        "# summarize history for loss\n",
        "plt.plot(history.history['loss'])\n",
        "plt.plot(history.history['val_loss'])\n",
        "plt.title('model loss')\n",
        "plt.ylabel('loss')\n",
        "plt.xlabel('epoch')\n",
        "plt.legend(['train', 'test'], loc='upper left')\n",
        "plt.show()"
      ],
      "execution_count": 130,
      "outputs": [
        {
          "output_type": "display_data",
          "data": {
            "image/png": "[encoded data removed]",
            "text/plain": [
              "<Figure size 432x288 with 1 Axes>"
            ]
          },
          "metadata": {
            "tags": [],
            "needs_background": "light"
          }
        },
        {
          "output_type": "display_data",
          "data": {
            "image/png": "[encoded data removed]",
            "text/plain": [
              "<Figure size 432x288 with 1 Axes>"
            ]
          },
          "metadata": {
            "tags": [],
            "needs_background": "light"
          }
        }
      ]
    },
    {
      "cell_type": "code",
      "metadata": {
        "id": "v5VD5bBXFevi"
      },
      "source": [
        ""
      ],
      "execution_count": null,
      "outputs": []
    }
  ]
}